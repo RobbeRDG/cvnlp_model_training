{
 "cells": [
  {
   "attachments": {},
   "cell_type": "markdown",
   "metadata": {},
   "source": [
    "# Audio extraction"
   ]
  },
  {
   "attachments": {},
   "cell_type": "markdown",
   "metadata": {},
   "source": [
    "## Setup"
   ]
  },
  {
   "cell_type": "code",
   "execution_count": null,
   "metadata": {},
   "outputs": [],
   "source": [
    "import os\n",
    "from os.path import join\n",
    "import moviepy.editor as mp\n",
    "from tqdm import tqdm\n",
    "import util.local_config as local_config"
   ]
  },
  {
   "cell_type": "code",
   "execution_count": null,
   "metadata": {},
   "outputs": [],
   "source": [
    "def extract_audio_for_videos_in_folder(video_folder_path, audio_folder_path):\n",
    "    # Get all .mp4 files in the folder\n",
    "    video_files = [f for f in os.listdir(video_folder_path) if f.endswith('.mp4')]\n",
    "\n",
    "    # Extract audio for each video file\n",
    "    for video_file in tqdm(video_files):\n",
    "        # Get the video file path\n",
    "        video_file_path = join(video_folder_path, video_file)\n",
    "\n",
    "        # Construct the audio file path\n",
    "        audio_file_name = video_file.replace('.mp4', '.wav')\n",
    "        audio_file_path = join(audio_folder_path, audio_file_name)\n",
    "\n",
    "        # Skip if the audio file already exists\n",
    "        if os.path.exists(audio_file_path):\n",
    "            continue\n",
    "\n",
    "        # Extract audio\n",
    "        video_clip = mp.VideoFileClip(video_file_path)\n",
    "        audio_clip = video_clip.audio\n",
    "\n",
    "        # Write audio to file\n",
    "        audio_clip.write_audiofile(audio_file_path)\n",
    "\n",
    "        # Close the video clip\n",
    "        video_clip.close()"
   ]
  },
  {
   "attachments": {},
   "cell_type": "markdown",
   "metadata": {},
   "source": [
    "## Main"
   ]
  },
  {
   "cell_type": "code",
   "execution_count": null,
   "metadata": {},
   "outputs": [],
   "source": [
    "# Extract audio for videos in the test data folder\n",
    "video_folder_path = join(local_config.TEST_DATA_FOLDER_PATH, 'video')\n",
    "audio_folder_path = join(local_config.TEST_DATA_FOLDER_PATH, 'audio')\n",
    "extract_audio_for_videos_in_folder(video_folder_path, audio_folder_path)\n",
    "\n",
    "# Extract audio for videos in the dev data folder\n",
    "video_folder_path = join(local_config.DEV_DATA_FOLDER_PATH, 'video')\n",
    "audio_folder_path = join(local_config.DEV_DATA_FOLDER_PATH, 'audio')\n",
    "extract_audio_for_videos_in_folder(video_folder_path, audio_folder_path)\n",
    "\n",
    "# Extract audio for videos in the train data folder\n",
    "video_folder_path = join(local_config.TRAIN_DATA_FOLDER_PATH, 'video')\n",
    "audio_folder_path = join(local_config.TRAIN_DATA_FOLDER_PATH, 'audio')\n",
    "extract_audio_for_videos_in_folder(video_folder_path, audio_folder_path)"
   ]
  }
 ],
 "metadata": {
  "kernelspec": {
   "display_name": "base",
   "language": "python",
   "name": "python3"
  },
  "language_info": {
   "name": "python",
   "version": "3.10.9"
  },
  "orig_nbformat": 4
 },
 "nbformat": 4,
 "nbformat_minor": 2
}
